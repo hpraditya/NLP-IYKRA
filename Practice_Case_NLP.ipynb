{
  "nbformat": 4,
  "nbformat_minor": 0,
  "metadata": {
    "colab": {
      "name": "Practice_Case_NLP.ipynb",
      "provenance": [],
      "collapsed_sections": [],
      "authorship_tag": "ABX9TyOauak/UdnqBn9vL0BUS1Cu",
      "include_colab_link": true
    },
    "kernelspec": {
      "name": "python3",
      "display_name": "Python 3"
    },
    "language_info": {
      "name": "python"
    }
  },
  "cells": [
    {
      "cell_type": "markdown",
      "metadata": {
        "id": "view-in-github",
        "colab_type": "text"
      },
      "source": [
        "<a href=\"https://colab.research.google.com/github/hpraditya/NLP-IYKRA/blob/main/Practice_Case_NLP.ipynb\" target=\"_parent\"><img src=\"https://colab.research.google.com/assets/colab-badge.svg\" alt=\"Open In Colab\"/></a>"
      ]
    },
    {
      "cell_type": "code",
      "metadata": {
        "id": "J80TzGnKueEu"
      },
      "source": [
        "# import necessary library\n",
        "import pandas as pd\n",
        "import re\n",
        "import string\n",
        "from string import punctuation\n",
        "import nltk\n",
        "from nltk.corpus import stopwords\n",
        "import Sastrawi\n",
        "from Sastrawi.Stemmer.StemmerFactory import StemmerFactory\n",
        "from sklearn.feature_extraction.text import CountVectorizer\n",
        "from sklearn.feature_extraction.text import TfidfVectorizer"
      ],
      "execution_count": 4,
      "outputs": []
    },
    {
      "cell_type": "code",
      "metadata": {
        "colab": {
          "base_uri": "https://localhost:8080/"
        },
        "id": "vcm98B0xu16h",
        "outputId": "ed3157cc-87a4-4f97-c487-10fd007014c7"
      },
      "source": [
        "# download necessary library not in google collab\n",
        "!pip install Sastrawi\n",
        "nltk.download('stopwords')"
      ],
      "execution_count": 2,
      "outputs": [
        {
          "output_type": "stream",
          "text": [
            "Collecting Sastrawi\n",
            "  Downloading Sastrawi-1.0.1-py2.py3-none-any.whl (209 kB)\n",
            "\u001b[?25l\r\u001b[K     |█▋                              | 10 kB 26.6 MB/s eta 0:00:01\r\u001b[K     |███▏                            | 20 kB 35.1 MB/s eta 0:00:01\r\u001b[K     |████▊                           | 30 kB 39.3 MB/s eta 0:00:01\r\u001b[K     |██████▎                         | 40 kB 22.6 MB/s eta 0:00:01\r\u001b[K     |███████▉                        | 51 kB 13.7 MB/s eta 0:00:01\r\u001b[K     |█████████▍                      | 61 kB 15.5 MB/s eta 0:00:01\r\u001b[K     |███████████                     | 71 kB 12.6 MB/s eta 0:00:01\r\u001b[K     |████████████▌                   | 81 kB 13.6 MB/s eta 0:00:01\r\u001b[K     |██████████████                  | 92 kB 14.9 MB/s eta 0:00:01\r\u001b[K     |███████████████▋                | 102 kB 12.1 MB/s eta 0:00:01\r\u001b[K     |█████████████████▏              | 112 kB 12.1 MB/s eta 0:00:01\r\u001b[K     |██████████████████▊             | 122 kB 12.1 MB/s eta 0:00:01\r\u001b[K     |████████████████████▎           | 133 kB 12.1 MB/s eta 0:00:01\r\u001b[K     |█████████████████████▉          | 143 kB 12.1 MB/s eta 0:00:01\r\u001b[K     |███████████████████████▍        | 153 kB 12.1 MB/s eta 0:00:01\r\u001b[K     |█████████████████████████       | 163 kB 12.1 MB/s eta 0:00:01\r\u001b[K     |██████████████████████████▋     | 174 kB 12.1 MB/s eta 0:00:01\r\u001b[K     |████████████████████████████▏   | 184 kB 12.1 MB/s eta 0:00:01\r\u001b[K     |█████████████████████████████▊  | 194 kB 12.1 MB/s eta 0:00:01\r\u001b[K     |███████████████████████████████▎| 204 kB 12.1 MB/s eta 0:00:01\r\u001b[K     |████████████████████████████████| 209 kB 12.1 MB/s \n",
            "\u001b[?25hInstalling collected packages: Sastrawi\n",
            "Successfully installed Sastrawi-1.0.1\n"
          ],
          "name": "stdout"
        }
      ]
    },
    {
      "cell_type": "code",
      "metadata": {
        "colab": {
          "base_uri": "https://localhost:8080/"
        },
        "id": "fRnFSr-2vAor",
        "outputId": "c58ee7c2-9eff-466d-e154-1a53850977ed"
      },
      "source": [
        "#import data from covid-sentiment.csv\n",
        "tw_df = pd.read_csv('https://github.com/hpraditya/NLP-IYKRA/blob/main/covid-sentiment.csv')\n",
        "tw_df.head(3)"
      ],
      "execution_count": 3,
      "outputs": [
        {
          "output_type": "stream",
          "text": [
            "[nltk_data] Downloading package stopwords to /root/nltk_data...\n",
            "[nltk_data]   Unzipping corpora/stopwords.zip.\n"
          ],
          "name": "stdout"
        },
        {
          "output_type": "execute_result",
          "data": {
            "text/plain": [
              "True"
            ]
          },
          "metadata": {
            "tags": []
          },
          "execution_count": 3
        }
      ]
    },
    {
      "cell_type": "code",
      "metadata": {
        "id": "_tVeuILZvpcD"
      },
      "source": [
        "#preprocessing tweet data\n",
        "\n",
        "#making all letter lowercase\n",
        "tweet = [x.lower() for x in  tw_df['tweet']]\n",
        "\n",
        "#remove url\n",
        "#all pattern start from http and end in whitspace will be removed\n",
        "tweet = [re.sub(r'http\\S+',\" \",x) for x in tweet]\n",
        "\n",
        "#remove twitter pic\n",
        "#all pattern start from pic.twitter.com and end in whitspace will be removed\n",
        "tweet = [re.sub(r'pic.twitter.com\\S+',\" \",x) for x in tweet]\n",
        "\n",
        "#remove whitespace\n",
        "tweet = [x.strip() for x in  tweet]"
      ],
      "execution_count": null,
      "outputs": []
    },
    {
      "cell_type": "code",
      "metadata": {
        "id": "2KCDXMbDv1E_"
      },
      "source": [
        "# remove punctuation and tokenization in one go\n",
        "#all character from a-Z and 0-9 will not be removed\n",
        "punc_filter = nltk.RegexpTokenizer(r\"\\w+\")\n",
        "\n",
        "tweet = [punc_filter.tokenize(x) for x in tweet]\n",
        "\n",
        "tweet[0]"
      ],
      "execution_count": null,
      "outputs": []
    },
    {
      "cell_type": "code",
      "metadata": {
        "id": "w3jkFUVVv3gD"
      },
      "source": [
        "#collect the stopwords \n",
        "stop_words = stopwords.words('Indonesian')\n",
        "factory = StemmerFactory()\n",
        "stemmer = factory.create_stemmer()\n",
        "\n",
        "\n",
        "#stopwrods removal \n",
        "nonstop_words = []\n",
        "for stc in  tweet:\n",
        "    words = [x for x in stc if x not in stop_words]\n",
        "    \n",
        "    nonstop_words.append(words)\n",
        "\n",
        "nonstop_words[0]\n",
        "\n",
        "# rejoin the list of words to make sentences\n",
        "tweet = nonstop_words\n",
        "text_tweet = [\" \".join(x) for x in tweet]\n",
        "text_tweet[0]"
      ],
      "execution_count": null,
      "outputs": []
    },
    {
      "cell_type": "code",
      "metadata": {
        "id": "md5iWetgv5dM"
      },
      "source": [
        "# make bag of words\n",
        "bow = CountVectorizer()\n",
        "\n",
        "#fit text_tweet to bow\n",
        "x_sentence = bow.fit_transform(text_tweet)\n",
        "\n",
        "#get feature names from bow\n",
        "x_sentence_df = pd.DataFrame(x_sentence.toarray(),columns=bow.get_feature_names())\n",
        "x_sentence_df[5]"
      ],
      "execution_count": null,
      "outputs": []
    },
    {
      "cell_type": "code",
      "metadata": {
        "id": "6I7qf0aKv7At"
      },
      "source": [
        "making tfidf vectorizer\n",
        "tfidf = TfidfVectorizer()\n",
        "\n",
        "#create new list with fewer sentence so memory will fit\n",
        "text_tweet2 = text_tweet[0:15000]\n",
        "\n",
        "#fit text_tweet2 to tfidf\n",
        "x2_sentence = tfidf.fit_transform(text_tweet2)\n",
        "\n",
        "#get frequency count of each feature names\n",
        "x2_sentence_df = pd.DataFrame(x2_sentence.toarray(),columns=tfidf.get_feature_names())\n",
        "x2_sentence_df.head(5)"
      ],
      "execution_count": null,
      "outputs": []
    },
    {
      "cell_type": "code",
      "metadata": {
        "id": "o3QPwcQlvseP"
      },
      "source": [
        ""
      ],
      "execution_count": null,
      "outputs": []
    }
  ]
}